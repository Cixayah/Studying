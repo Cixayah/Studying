{
 "cells": [
  {
   "cell_type": "code",
   "execution_count": 1,
   "metadata": {},
   "outputs": [
    {
     "name": "stdout",
     "output_type": "stream",
     "text": [
      "1500\n",
      "Cix\n"
     ]
    }
   ],
   "source": [
    "qtd_vendas = 1500 # \"=\" é receba (não que eu concorde com isso)\n",
    "nome = \"Cix\"\n",
    "print(qtd_vendas) #Python não precisa definir o tipo da variável sendo elas: Int, string, float, char, bool e dict\n",
    "print(nome)\n"
   ]
  }
 ],
 "metadata": {
  "kernelspec": {
   "display_name": "Python 3",
   "language": "python",
   "name": "python3"
  },
  "language_info": {
   "codemirror_mode": {
    "name": "ipython",
    "version": 3
   },
   "file_extension": ".py",
   "mimetype": "text/x-python",
   "name": "python",
   "nbconvert_exporter": "python",
   "pygments_lexer": "ipython3",
   "version": "3.12.0"
  }
 },
 "nbformat": 4,
 "nbformat_minor": 2
}
