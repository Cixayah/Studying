{
 "cells": [
  {
   "cell_type": "code",
   "execution_count": 1,
   "id": "initial_id",
   "metadata": {
    "ExecuteTime": {
     "end_time": "2024-02-14T10:43:50.567560700Z",
     "start_time": "2024-02-14T10:43:50.564494Z"
    },
    "collapsed": true
   },
   "outputs": [
    {
     "name": "stdout",
     "output_type": "stream",
     "text": [
      "2\n"
     ]
    }
   ],
   "source": [
    "print(1 + 1)"
   ]
  },
  {
   "cell_type": "code",
   "execution_count": 2,
   "id": "7721a801345c6a54",
   "metadata": {
    "collapsed": false
   },
   "outputs": [
    {
     "name": "stdout",
     "output_type": "stream",
     "text": [
      "0.6666666666666666\n"
     ]
    }
   ],
   "source": [
    "print(2 / 3)"
   ]
  },
  {
   "cell_type": "code",
   "execution_count": 3,
   "id": "39ef160f93eb478b",
   "metadata": {
    "collapsed": false
   },
   "outputs": [
    {
     "name": "stdout",
     "output_type": "stream",
     "text": [
      "10\n"
     ]
    }
   ],
   "source": [
    "print(2 * 5)"
   ]
  },
  {
   "cell_type": "code",
   "execution_count": 4,
   "id": "4dfa9cf20195fca3",
   "metadata": {
    "ExecuteTime": {
     "end_time": "2024-02-14T10:47:54.065976400Z",
     "start_time": "2024-02-14T10:47:54.062764Z"
    },
    "collapsed": false
   },
   "outputs": [
    {
     "name": "stdout",
     "output_type": "stream",
     "text": [
      "10.0\n"
     ]
    }
   ],
   "source": [
    "print(2.0 * 5)"
   ]
  },
  {
   "cell_type": "code",
   "execution_count": 6,
   "id": "ac7ffd5c6300a443",
   "metadata": {
    "ExecuteTime": {
     "end_time": "2024-02-14T10:50:41.353613600Z",
     "start_time": "2024-02-14T10:50:41.351108900Z"
    },
    "collapsed": false
   },
   "outputs": [
    {
     "name": "stdout",
     "output_type": "stream",
     "text": [
      "1\n"
     ]
    }
   ],
   "source": [
    "print (7 % 3) #Resto da divisão"
   ]
  }
 ],
 "metadata": {
  "kernelspec": {
   "display_name": "Python 3",
   "language": "python",
   "name": "python3"
  },
  "language_info": {
   "codemirror_mode": {
    "name": "ipython",
    "version": 3
   },
   "file_extension": ".py",
   "mimetype": "text/x-python",
   "name": "python",
   "nbconvert_exporter": "python",
   "pygments_lexer": "ipython3",
   "version": "3.12.0"
  }
 },
 "nbformat": 4,
 "nbformat_minor": 5
}
