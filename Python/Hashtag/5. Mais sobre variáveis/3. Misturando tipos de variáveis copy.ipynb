{
 "cells": [
  {
   "cell_type": "code",
   "execution_count": 23,
   "metadata": {},
   "outputs": [],
   "source": [
    "faturamento = 3000\n",
    "type(faturamento) #Mostra o tipo de variável\n",
    "custo = 2500\n",
    "lucro = faturamento - custo"
   ]
  },
  {
   "cell_type": "code",
   "execution_count": 24,
   "metadata": {},
   "outputs": [
    {
     "name": "stdout",
     "output_type": "stream",
     "text": [
      "O faturamento da loja foi de 3000.\n",
      "O custo da loja foi 2500.\n",
      "Assim, o lucro da loja foi de 500.\n"
     ]
    }
   ],
   "source": [
    "#str(var) converte int para string\n",
    "print('O faturamento da loja foi de '+ str(faturamento)+'.') \n",
    "print('O custo da loja foi ' +str(custo)+'.')\n",
    "print('Assim, o lucro da loja foi de ' + str(lucro) +'.')"
   ]
  }
 ],
 "metadata": {
  "kernelspec": {
   "display_name": "Python 3",
   "language": "python",
   "name": "python3"
  },
  "language_info": {
   "codemirror_mode": {
    "name": "ipython",
    "version": 3
   },
   "file_extension": ".py",
   "mimetype": "text/x-python",
   "name": "python",
   "nbconvert_exporter": "python",
   "pygments_lexer": "ipython3",
   "version": "3.12.0"
  }
 },
 "nbformat": 4,
 "nbformat_minor": 2
}
